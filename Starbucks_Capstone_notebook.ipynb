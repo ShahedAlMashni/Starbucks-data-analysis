{
 "cells": [
  {
   "cell_type": "markdown",
   "metadata": {},
   "source": [
    "# Starbucks Capstone Challenge\n",
    "\n",
    "### Introduction\n",
    "\n",
    "This data set contains simulated data that mimics customer behavior on the Starbucks rewards mobile app. Once every few days, Starbucks sends out an offer to users of the mobile app. An offer can be merely an advertisement for a drink or an actual offer such as a discount or BOGO (buy one get one free). Some users might not receive any offer during certain weeks. \n",
    "\n",
    "Not all users receive the same offer, and that is the challenge to solve with this data set.\n",
    "\n",
    "Your task is to combine transaction, demographic and offer data to determine which demographic groups respond best to which offer type. This data set is a simplified version of the real Starbucks app because the underlying simulator only has one product whereas Starbucks actually sells dozens of products.\n",
    "\n",
    "Every offer has a validity period before the offer expires. As an example, a BOGO offer might be valid for only 5 days. You'll see in the data set that informational offers have a validity period even though these ads are merely providing information about a product; for example, if an informational offer has 7 days of validity, you can assume the customer is feeling the influence of the offer for 7 days after receiving the advertisement.\n",
    "\n",
    "You'll be given transactional data showing user purchases made on the app including the timestamp of purchase and the amount of money spent on a purchase. This transactional data also has a record for each offer that a user receives as well as a record for when a user actually views the offer. There are also records for when a user completes an offer. \n",
    "\n",
    "Keep in mind as well that someone using the app might make a purchase through the app without having received an offer or seen an offer.\n",
    "\n",
    "### Example\n",
    "\n",
    "To give an example, a user could receive a discount offer buy 10 dollars get 2 off on Monday. The offer is valid for 10 days from receipt. If the customer accumulates at least 10 dollars in purchases during the validity period, the customer completes the offer.\n",
    "\n",
    "However, there are a few things to watch out for in this data set. Customers do not opt into the offers that they receive; in other words, a user can receive an offer, never actually view the offer, and still complete the offer. For example, a user might receive the \"buy 10 dollars get 2 dollars off offer\", but the user never opens the offer during the 10 day validity period. The customer spends 15 dollars during those ten days. There will be an offer completion record in the data set; however, the customer was not influenced by the offer because the customer never viewed the offer.\n",
    "\n",
    "### Cleaning\n",
    "\n",
    "This makes data cleaning especially important and tricky.\n",
    "\n",
    "You'll also want to take into account that some demographic groups will make purchases even if they don't receive an offer. From a business perspective, if a customer is going to make a 10 dollar purchase without an offer anyway, you wouldn't want to send a buy 10 dollars get 2 dollars off offer. You'll want to try to assess what a certain demographic group will buy when not receiving any offers.\n",
    "\n",
    "### Final Advice\n",
    "\n",
    "Because this is a capstone project, you are free to analyze the data any way you see fit. For example, you could build a machine learning model that predicts how much someone will spend based on demographics and offer type. Or you could build a model that predicts whether or not someone will respond to an offer. Or, you don't need to build a machine learning model at all. You could develop a set of heuristics that determine what offer you should send to each customer (i.e., 75 percent of women customers who were 35 years old responded to offer A vs 40 percent from the same demographic to offer B, so send offer A)."
   ]
  },
  {
   "cell_type": "markdown",
   "metadata": {},
   "source": [
    "# Data Sets\n",
    "\n",
    "The data is contained in three files:\n",
    "\n",
    "* portfolio.json - containing offer ids and meta data about each offer (duration, type, etc.)\n",
    "* profile.json - demographic data for each customer\n",
    "* transcript.json - records for transactions, offers received, offers viewed, and offers completed\n",
    "\n",
    "Here is the schema and explanation of each variable in the files:\n",
    "\n",
    "**portfolio.json**\n",
    "* id (string) - offer id\n",
    "* offer_type (string) - type of offer ie BOGO, discount, informational\n",
    "* difficulty (int) - minimum required spend to complete an offer\n",
    "* reward (int) - reward given for completing an offer\n",
    "* duration (int) - time for offer to be open, in days\n",
    "* channels (list of strings)\n",
    "\n",
    "**profile.json**\n",
    "* age (int) - age of the customer \n",
    "* became_member_on (int) - date when customer created an app account\n",
    "* gender (str) - gender of the customer (note some entries contain 'O' for other rather than M or F)\n",
    "* id (str) - customer id\n",
    "* income (float) - customer's income\n",
    "\n",
    "**transcript.json**\n",
    "* event (str) - record description (ie transaction, offer received, offer viewed, etc.)\n",
    "* person (str) - customer id\n",
    "* time (int) - time in hours since start of test. The data begins at time t=0\n",
    "* value - (dict of strings) - either an offer id or transaction amount depending on the record\n",
    "\n"
   ]
  },
  {
   "cell_type": "code",
   "execution_count": 104,
   "metadata": {},
   "outputs": [],
   "source": [
    "import pandas as pd\n",
    "import numpy as np\n",
    "import math\n",
    "import json\n",
    "import matplotlib.pyplot as plt\n",
    "import seaborn as sns\n",
    "import re\n",
    "\n",
    "from sklearn.model_selection import GridSearchCV\n",
    "from sklearn.svm import LinearSVC\n",
    "from sklearn.neighbors import KNeighborsClassifier\n",
    "from sklearn.tree import DecisionTreeClassifier\n",
    "from sklearn.linear_model import LogisticRegression\n",
    "from sklearn.svm import SVC\n",
    "from sklearn.ensemble import RandomForestClassifier\n",
    "from sklearn.model_selection import train_test_split\n",
    "from sklearn.pipeline import Pipeline\n",
    "from sklearn.metrics import classification_report\n",
    "from sklearn.linear_model import LinearRegression\n",
    "from sklearn.metrics import r2_score\n",
    "\n",
    "%matplotlib inline"
   ]
  },
  {
   "cell_type": "code",
   "execution_count": 105,
   "metadata": {},
   "outputs": [],
   "source": [
    "# read in the json files\n",
    "portfolio = pd.read_json('data/portfolio.json', orient='records', lines=True)\n",
    "profile = pd.read_json('data/profile.json', orient='records', lines=True)\n",
    "transcript = pd.read_json('data/transcript.json', orient='records', lines=True)"
   ]
  },
  {
   "cell_type": "markdown",
   "metadata": {},
   "source": [
    "To check the size of our datasets:"
   ]
  },
  {
   "cell_type": "code",
   "execution_count": 106,
   "metadata": {},
   "outputs": [
    {
     "name": "stdout",
     "output_type": "stream",
     "text": [
      "portfolio:  (10, 6)\n",
      "profile:  (17000, 5)\n",
      "transcript:  (306534, 4)\n"
     ]
    }
   ],
   "source": [
    "print('portfolio: ',portfolio.shape)\n",
    "print('profile: ',profile.shape)\n",
    "print('transcript: ',transcript.shape)"
   ]
  },
  {
   "cell_type": "code",
   "execution_count": 107,
   "metadata": {},
   "outputs": [
    {
     "data": {
      "text/html": [
       "<div>\n",
       "<style scoped>\n",
       "    .dataframe tbody tr th:only-of-type {\n",
       "        vertical-align: middle;\n",
       "    }\n",
       "\n",
       "    .dataframe tbody tr th {\n",
       "        vertical-align: top;\n",
       "    }\n",
       "\n",
       "    .dataframe thead th {\n",
       "        text-align: right;\n",
       "    }\n",
       "</style>\n",
       "<table border=\"1\" class=\"dataframe\">\n",
       "  <thead>\n",
       "    <tr style=\"text-align: right;\">\n",
       "      <th></th>\n",
       "      <th>reward</th>\n",
       "      <th>channels</th>\n",
       "      <th>difficulty</th>\n",
       "      <th>duration</th>\n",
       "      <th>offer_type</th>\n",
       "      <th>id</th>\n",
       "    </tr>\n",
       "  </thead>\n",
       "  <tbody>\n",
       "    <tr>\n",
       "      <th>0</th>\n",
       "      <td>10</td>\n",
       "      <td>[email, mobile, social]</td>\n",
       "      <td>10</td>\n",
       "      <td>7</td>\n",
       "      <td>bogo</td>\n",
       "      <td>ae264e3637204a6fb9bb56bc8210ddfd</td>\n",
       "    </tr>\n",
       "    <tr>\n",
       "      <th>1</th>\n",
       "      <td>10</td>\n",
       "      <td>[web, email, mobile, social]</td>\n",
       "      <td>10</td>\n",
       "      <td>5</td>\n",
       "      <td>bogo</td>\n",
       "      <td>4d5c57ea9a6940dd891ad53e9dbe8da0</td>\n",
       "    </tr>\n",
       "    <tr>\n",
       "      <th>2</th>\n",
       "      <td>0</td>\n",
       "      <td>[web, email, mobile]</td>\n",
       "      <td>0</td>\n",
       "      <td>4</td>\n",
       "      <td>informational</td>\n",
       "      <td>3f207df678b143eea3cee63160fa8bed</td>\n",
       "    </tr>\n",
       "    <tr>\n",
       "      <th>3</th>\n",
       "      <td>5</td>\n",
       "      <td>[web, email, mobile]</td>\n",
       "      <td>5</td>\n",
       "      <td>7</td>\n",
       "      <td>bogo</td>\n",
       "      <td>9b98b8c7a33c4b65b9aebfe6a799e6d9</td>\n",
       "    </tr>\n",
       "    <tr>\n",
       "      <th>4</th>\n",
       "      <td>5</td>\n",
       "      <td>[web, email]</td>\n",
       "      <td>20</td>\n",
       "      <td>10</td>\n",
       "      <td>discount</td>\n",
       "      <td>0b1e1539f2cc45b7b9fa7c272da2e1d7</td>\n",
       "    </tr>\n",
       "  </tbody>\n",
       "</table>\n",
       "</div>"
      ],
      "text/plain": [
       "   reward                      channels  difficulty  duration     offer_type  \\\n",
       "0      10       [email, mobile, social]          10         7           bogo   \n",
       "1      10  [web, email, mobile, social]          10         5           bogo   \n",
       "2       0          [web, email, mobile]           0         4  informational   \n",
       "3       5          [web, email, mobile]           5         7           bogo   \n",
       "4       5                  [web, email]          20        10       discount   \n",
       "\n",
       "                                 id  \n",
       "0  ae264e3637204a6fb9bb56bc8210ddfd  \n",
       "1  4d5c57ea9a6940dd891ad53e9dbe8da0  \n",
       "2  3f207df678b143eea3cee63160fa8bed  \n",
       "3  9b98b8c7a33c4b65b9aebfe6a799e6d9  \n",
       "4  0b1e1539f2cc45b7b9fa7c272da2e1d7  "
      ]
     },
     "execution_count": 107,
     "metadata": {},
     "output_type": "execute_result"
    }
   ],
   "source": [
    "portfolio.head()"
   ]
  },
  {
   "cell_type": "code",
   "execution_count": 108,
   "metadata": {},
   "outputs": [
    {
     "data": {
      "text/html": [
       "<div>\n",
       "<style scoped>\n",
       "    .dataframe tbody tr th:only-of-type {\n",
       "        vertical-align: middle;\n",
       "    }\n",
       "\n",
       "    .dataframe tbody tr th {\n",
       "        vertical-align: top;\n",
       "    }\n",
       "\n",
       "    .dataframe thead th {\n",
       "        text-align: right;\n",
       "    }\n",
       "</style>\n",
       "<table border=\"1\" class=\"dataframe\">\n",
       "  <thead>\n",
       "    <tr style=\"text-align: right;\">\n",
       "      <th></th>\n",
       "      <th>gender</th>\n",
       "      <th>age</th>\n",
       "      <th>id</th>\n",
       "      <th>became_member_on</th>\n",
       "      <th>income</th>\n",
       "    </tr>\n",
       "  </thead>\n",
       "  <tbody>\n",
       "    <tr>\n",
       "      <th>0</th>\n",
       "      <td>None</td>\n",
       "      <td>118</td>\n",
       "      <td>68be06ca386d4c31939f3a4f0e3dd783</td>\n",
       "      <td>20170212</td>\n",
       "      <td>NaN</td>\n",
       "    </tr>\n",
       "    <tr>\n",
       "      <th>1</th>\n",
       "      <td>F</td>\n",
       "      <td>55</td>\n",
       "      <td>0610b486422d4921ae7d2bf64640c50b</td>\n",
       "      <td>20170715</td>\n",
       "      <td>112000.0</td>\n",
       "    </tr>\n",
       "    <tr>\n",
       "      <th>2</th>\n",
       "      <td>None</td>\n",
       "      <td>118</td>\n",
       "      <td>38fe809add3b4fcf9315a9694bb96ff5</td>\n",
       "      <td>20180712</td>\n",
       "      <td>NaN</td>\n",
       "    </tr>\n",
       "    <tr>\n",
       "      <th>3</th>\n",
       "      <td>F</td>\n",
       "      <td>75</td>\n",
       "      <td>78afa995795e4d85b5d9ceeca43f5fef</td>\n",
       "      <td>20170509</td>\n",
       "      <td>100000.0</td>\n",
       "    </tr>\n",
       "    <tr>\n",
       "      <th>4</th>\n",
       "      <td>None</td>\n",
       "      <td>118</td>\n",
       "      <td>a03223e636434f42ac4c3df47e8bac43</td>\n",
       "      <td>20170804</td>\n",
       "      <td>NaN</td>\n",
       "    </tr>\n",
       "  </tbody>\n",
       "</table>\n",
       "</div>"
      ],
      "text/plain": [
       "  gender  age                                id  became_member_on    income\n",
       "0   None  118  68be06ca386d4c31939f3a4f0e3dd783          20170212       NaN\n",
       "1      F   55  0610b486422d4921ae7d2bf64640c50b          20170715  112000.0\n",
       "2   None  118  38fe809add3b4fcf9315a9694bb96ff5          20180712       NaN\n",
       "3      F   75  78afa995795e4d85b5d9ceeca43f5fef          20170509  100000.0\n",
       "4   None  118  a03223e636434f42ac4c3df47e8bac43          20170804       NaN"
      ]
     },
     "execution_count": 108,
     "metadata": {},
     "output_type": "execute_result"
    }
   ],
   "source": [
    "profile.head()"
   ]
  },
  {
   "cell_type": "markdown",
   "metadata": {},
   "source": [
    "There are many entries with NaN and invalid values like the age of 118. It is probably safe to delete those rows. "
   ]
  },
  {
   "cell_type": "code",
   "execution_count": 109,
   "metadata": {},
   "outputs": [
    {
     "data": {
      "text/html": [
       "<div>\n",
       "<style scoped>\n",
       "    .dataframe tbody tr th:only-of-type {\n",
       "        vertical-align: middle;\n",
       "    }\n",
       "\n",
       "    .dataframe tbody tr th {\n",
       "        vertical-align: top;\n",
       "    }\n",
       "\n",
       "    .dataframe thead th {\n",
       "        text-align: right;\n",
       "    }\n",
       "</style>\n",
       "<table border=\"1\" class=\"dataframe\">\n",
       "  <thead>\n",
       "    <tr style=\"text-align: right;\">\n",
       "      <th></th>\n",
       "      <th>person</th>\n",
       "      <th>event</th>\n",
       "      <th>value</th>\n",
       "      <th>time</th>\n",
       "    </tr>\n",
       "  </thead>\n",
       "  <tbody>\n",
       "    <tr>\n",
       "      <th>0</th>\n",
       "      <td>78afa995795e4d85b5d9ceeca43f5fef</td>\n",
       "      <td>offer received</td>\n",
       "      <td>{'offer id': '9b98b8c7a33c4b65b9aebfe6a799e6d9'}</td>\n",
       "      <td>0</td>\n",
       "    </tr>\n",
       "    <tr>\n",
       "      <th>1</th>\n",
       "      <td>a03223e636434f42ac4c3df47e8bac43</td>\n",
       "      <td>offer received</td>\n",
       "      <td>{'offer id': '0b1e1539f2cc45b7b9fa7c272da2e1d7'}</td>\n",
       "      <td>0</td>\n",
       "    </tr>\n",
       "    <tr>\n",
       "      <th>2</th>\n",
       "      <td>e2127556f4f64592b11af22de27a7932</td>\n",
       "      <td>offer received</td>\n",
       "      <td>{'offer id': '2906b810c7d4411798c6938adc9daaa5'}</td>\n",
       "      <td>0</td>\n",
       "    </tr>\n",
       "    <tr>\n",
       "      <th>3</th>\n",
       "      <td>8ec6ce2a7e7949b1bf142def7d0e0586</td>\n",
       "      <td>offer received</td>\n",
       "      <td>{'offer id': 'fafdcd668e3743c1bb461111dcafc2a4'}</td>\n",
       "      <td>0</td>\n",
       "    </tr>\n",
       "    <tr>\n",
       "      <th>4</th>\n",
       "      <td>68617ca6246f4fbc85e91a2a49552598</td>\n",
       "      <td>offer received</td>\n",
       "      <td>{'offer id': '4d5c57ea9a6940dd891ad53e9dbe8da0'}</td>\n",
       "      <td>0</td>\n",
       "    </tr>\n",
       "  </tbody>\n",
       "</table>\n",
       "</div>"
      ],
      "text/plain": [
       "                             person           event  \\\n",
       "0  78afa995795e4d85b5d9ceeca43f5fef  offer received   \n",
       "1  a03223e636434f42ac4c3df47e8bac43  offer received   \n",
       "2  e2127556f4f64592b11af22de27a7932  offer received   \n",
       "3  8ec6ce2a7e7949b1bf142def7d0e0586  offer received   \n",
       "4  68617ca6246f4fbc85e91a2a49552598  offer received   \n",
       "\n",
       "                                              value  time  \n",
       "0  {'offer id': '9b98b8c7a33c4b65b9aebfe6a799e6d9'}     0  \n",
       "1  {'offer id': '0b1e1539f2cc45b7b9fa7c272da2e1d7'}     0  \n",
       "2  {'offer id': '2906b810c7d4411798c6938adc9daaa5'}     0  \n",
       "3  {'offer id': 'fafdcd668e3743c1bb461111dcafc2a4'}     0  \n",
       "4  {'offer id': '4d5c57ea9a6940dd891ad53e9dbe8da0'}     0  "
      ]
     },
     "execution_count": 109,
     "metadata": {},
     "output_type": "execute_result"
    }
   ],
   "source": [
    "transcript.head()"
   ]
  },
  {
   "cell_type": "markdown",
   "metadata": {},
   "source": [
    "# Data Cleaning\n",
    "The data will need to be cleaned and altered to be able to properly visualize and analyze its content.\n"
   ]
  },
  {
   "cell_type": "code",
   "execution_count": 110,
   "metadata": {},
   "outputs": [],
   "source": [
    "def create_mapping_dict(pd,column):\n",
    "    \"\"\" \n",
    "    Creates a dictionary that maps all unique strings to integers\n",
    "  \n",
    "    Parameters: \n",
    "    pd: pandas dataframe \n",
    "    column (string): the name of column where mapping is needed\n",
    "    \n",
    "    Returns: \n",
    "    dict_map (dictionary): python dictionary where keys are strings and values are the mapped integers \n",
    "  \n",
    "    \"\"\"\n",
    "    \n",
    "    dict_map = dict([(y,x+1) for x,y in enumerate(sorted(set(pd[column])))])\n",
    "    return dict_map"
   ]
  },
  {
   "cell_type": "code",
   "execution_count": 111,
   "metadata": {},
   "outputs": [],
   "source": [
    "def map_string_to_int(pd,column,dict_map):\n",
    "    \"\"\" \n",
    "    Maps each string in the original column to its respective integer.\n",
    "  \n",
    "    Parameters: \n",
    "    pd (pandas dataframe): original input dataframe \n",
    "    column (string): the name of column where mapping is needed\n",
    "    dict_map (dictionary): python dictionary where keys are strings and values are the mapped integers\n",
    "    \n",
    "    Returns: \n",
    "    pd (pandas dataframe):  dataframe after the specified column was modified\n",
    "  \n",
    "    \"\"\"\n",
    "    list_map = []\n",
    "    for x in pd[column]:\n",
    "        if x in dict_map:\n",
    "            list_map.append(dict_map[x])\n",
    "        else:\n",
    "            list_map.append(x)\n",
    "            \n",
    "    pd[column] = list_map\n",
    "    return pd"
   ]
  },
  {
   "cell_type": "markdown",
   "metadata": {},
   "source": [
    "\n",
    "### portfolio dataset \n",
    "In this dataset we can do the following:\n",
    "1. Expand \"channels\" into binary columns of all different channels in the dataset (email, web, mobile, social)\n",
    "2. Expand \"offer_type\" into binary columns for all different offer types.\n",
    "3. Replace the long hash value of id with an integer.\n",
    "4. Check for any null or duplicate values\n"
   ]
  },
  {
   "cell_type": "code",
   "execution_count": 112,
   "metadata": {},
   "outputs": [
    {
     "data": {
      "text/html": [
       "<div>\n",
       "<style scoped>\n",
       "    .dataframe tbody tr th:only-of-type {\n",
       "        vertical-align: middle;\n",
       "    }\n",
       "\n",
       "    .dataframe tbody tr th {\n",
       "        vertical-align: top;\n",
       "    }\n",
       "\n",
       "    .dataframe thead th {\n",
       "        text-align: right;\n",
       "    }\n",
       "</style>\n",
       "<table border=\"1\" class=\"dataframe\">\n",
       "  <thead>\n",
       "    <tr style=\"text-align: right;\">\n",
       "      <th></th>\n",
       "      <th>reward</th>\n",
       "      <th>difficulty</th>\n",
       "      <th>duration</th>\n",
       "      <th>offer_type</th>\n",
       "      <th>id</th>\n",
       "      <th>bogo</th>\n",
       "      <th>discount</th>\n",
       "      <th>informational</th>\n",
       "      <th>email</th>\n",
       "      <th>mobile</th>\n",
       "      <th>social</th>\n",
       "      <th>web</th>\n",
       "    </tr>\n",
       "  </thead>\n",
       "  <tbody>\n",
       "    <tr>\n",
       "      <th>0</th>\n",
       "      <td>10</td>\n",
       "      <td>10</td>\n",
       "      <td>7</td>\n",
       "      <td>bogo</td>\n",
       "      <td>8</td>\n",
       "      <td>1</td>\n",
       "      <td>0</td>\n",
       "      <td>0</td>\n",
       "      <td>1</td>\n",
       "      <td>1</td>\n",
       "      <td>1</td>\n",
       "      <td>0</td>\n",
       "    </tr>\n",
       "    <tr>\n",
       "      <th>1</th>\n",
       "      <td>10</td>\n",
       "      <td>10</td>\n",
       "      <td>5</td>\n",
       "      <td>bogo</td>\n",
       "      <td>5</td>\n",
       "      <td>1</td>\n",
       "      <td>0</td>\n",
       "      <td>0</td>\n",
       "      <td>1</td>\n",
       "      <td>1</td>\n",
       "      <td>1</td>\n",
       "      <td>1</td>\n",
       "    </tr>\n",
       "    <tr>\n",
       "      <th>2</th>\n",
       "      <td>0</td>\n",
       "      <td>0</td>\n",
       "      <td>4</td>\n",
       "      <td>informational</td>\n",
       "      <td>4</td>\n",
       "      <td>0</td>\n",
       "      <td>0</td>\n",
       "      <td>1</td>\n",
       "      <td>1</td>\n",
       "      <td>1</td>\n",
       "      <td>0</td>\n",
       "      <td>1</td>\n",
       "    </tr>\n",
       "    <tr>\n",
       "      <th>3</th>\n",
       "      <td>5</td>\n",
       "      <td>5</td>\n",
       "      <td>7</td>\n",
       "      <td>bogo</td>\n",
       "      <td>7</td>\n",
       "      <td>1</td>\n",
       "      <td>0</td>\n",
       "      <td>0</td>\n",
       "      <td>1</td>\n",
       "      <td>1</td>\n",
       "      <td>0</td>\n",
       "      <td>1</td>\n",
       "    </tr>\n",
       "    <tr>\n",
       "      <th>4</th>\n",
       "      <td>5</td>\n",
       "      <td>20</td>\n",
       "      <td>10</td>\n",
       "      <td>discount</td>\n",
       "      <td>1</td>\n",
       "      <td>0</td>\n",
       "      <td>1</td>\n",
       "      <td>0</td>\n",
       "      <td>1</td>\n",
       "      <td>0</td>\n",
       "      <td>0</td>\n",
       "      <td>1</td>\n",
       "    </tr>\n",
       "  </tbody>\n",
       "</table>\n",
       "</div>"
      ],
      "text/plain": [
       "   reward  difficulty  duration     offer_type  id  bogo  discount  \\\n",
       "0      10          10         7           bogo   8     1         0   \n",
       "1      10          10         5           bogo   5     1         0   \n",
       "2       0           0         4  informational   4     0         0   \n",
       "3       5           5         7           bogo   7     1         0   \n",
       "4       5          20        10       discount   1     0         1   \n",
       "\n",
       "   informational  email  mobile  social  web  \n",
       "0              0      1       1       1    0  \n",
       "1              0      1       1       1    1  \n",
       "2              1      1       1       0    1  \n",
       "3              0      1       1       0    1  \n",
       "4              0      1       0       0    1  "
      ]
     },
     "execution_count": 112,
     "metadata": {},
     "output_type": "execute_result"
    }
   ],
   "source": [
    "# Generate dummy columns of categorical variables\n",
    "\n",
    "# 1- channels dummies\n",
    "#get items from list to prepare for get_dummies\n",
    "channel_dummies = portfolio['channels'].apply(lambda x: str(x)[1:-1].replace('\\'',''))\n",
    "channel_dummies = channel_dummies.str.get_dummies(sep = ', ')\n",
    "\n",
    "\n",
    "# 2- offer_type dummies\n",
    "offer_dummies = pd.get_dummies(portfolio['offer_type'])\n",
    "\n",
    "\n",
    "# Concatinate new columns to portofolio and remove old columns\n",
    "portfolio = pd.concat([portfolio,offer_dummies,channel_dummies],axis=1).drop(['channels'],axis=1)\n",
    "\n",
    "\n",
    "# 3- Replace hash with integer\n",
    "offer_map = create_mapping_dict(portfolio,'id')\n",
    "portfolio = map_string_to_int(portfolio, 'id',offer_map)\n",
    "\n",
    "portfolio.head()"
   ]
  },
  {
   "cell_type": "code",
   "execution_count": 113,
   "metadata": {},
   "outputs": [
    {
     "data": {
      "text/plain": [
       "reward           0\n",
       "difficulty       0\n",
       "duration         0\n",
       "offer_type       0\n",
       "id               0\n",
       "bogo             0\n",
       "discount         0\n",
       "informational    0\n",
       "email            0\n",
       "mobile           0\n",
       "social           0\n",
       "web              0\n",
       "dtype: int64"
      ]
     },
     "execution_count": 113,
     "metadata": {},
     "output_type": "execute_result"
    }
   ],
   "source": [
    "#check for null values\n",
    "portfolio.isnull().sum()"
   ]
  },
  {
   "cell_type": "code",
   "execution_count": 114,
   "metadata": {},
   "outputs": [
    {
     "name": "stdout",
     "output_type": "stream",
     "text": [
      "Empty DataFrame\n",
      "Columns: [reward, difficulty, duration, offer_type, id, bogo, discount, informational, email, mobile, social, web]\n",
      "Index: []\n"
     ]
    }
   ],
   "source": [
    "#check for duplicates\n",
    "print(portfolio[portfolio.duplicated()])"
   ]
  },
  {
   "cell_type": "markdown",
   "metadata": {},
   "source": [
    "### profile dataset \n",
    "In this dataset we can do the following:\n",
    "1. Replace the long hash value of id with an integer.\n",
    "2. Remove Nan and invalid values (eg: Age = 118)\n",
    "3. format 'became_member_of' column to Y-M-D\n",
    "4. check for duplicate users"
   ]
  },
  {
   "cell_type": "code",
   "execution_count": 115,
   "metadata": {},
   "outputs": [],
   "source": [
    "#1- Replace hash with integer\n",
    "profile_map = create_mapping_dict(profile, 'id')\n",
    "profile = map_string_to_int(profile, 'id',profile_map)"
   ]
  },
  {
   "cell_type": "code",
   "execution_count": 116,
   "metadata": {},
   "outputs": [
    {
     "name": "stdout",
     "output_type": "stream",
     "text": [
      "gender              2175\n",
      "age                    0\n",
      "id                     0\n",
      "became_member_on       0\n",
      "income              2175\n",
      "dtype: int64\n",
      "<class 'pandas.core.frame.DataFrame'>\n",
      "Int64Index: 2175 entries, 0 to 16994\n",
      "Data columns (total 5 columns):\n",
      " #   Column            Non-Null Count  Dtype  \n",
      "---  ------            --------------  -----  \n",
      " 0   gender            0 non-null      object \n",
      " 1   age               2175 non-null   int64  \n",
      " 2   id                2175 non-null   int64  \n",
      " 3   became_member_on  2175 non-null   int64  \n",
      " 4   income            0 non-null      float64\n",
      "dtypes: float64(1), int64(3), object(1)\n",
      "memory usage: 102.0+ KB\n",
      "None\n"
     ]
    }
   ],
   "source": [
    "# 2- Remove Nan and invalid values (eg: Age = 118)\n",
    "#check number of nan values\n",
    "print(profile.isnull().sum())\n",
    "\n",
    "#check the rows with Age > 110\n",
    "print(profile[profile.age > 110].info())"
   ]
  },
  {
   "cell_type": "markdown",
   "metadata": {},
   "source": [
    "It seems like the invalid ages are a dummy fill up for rows with null values.\n",
    "Since the entire row (age, gender, income) is filled with null values, we can remove them as they are useless to our analysis."
   ]
  },
  {
   "cell_type": "code",
   "execution_count": 117,
   "metadata": {},
   "outputs": [
    {
     "name": "stdout",
     "output_type": "stream",
     "text": [
      "profile (14825, 5)\n"
     ]
    },
    {
     "data": {
      "text/html": [
       "<div>\n",
       "<style scoped>\n",
       "    .dataframe tbody tr th:only-of-type {\n",
       "        vertical-align: middle;\n",
       "    }\n",
       "\n",
       "    .dataframe tbody tr th {\n",
       "        vertical-align: top;\n",
       "    }\n",
       "\n",
       "    .dataframe thead th {\n",
       "        text-align: right;\n",
       "    }\n",
       "</style>\n",
       "<table border=\"1\" class=\"dataframe\">\n",
       "  <thead>\n",
       "    <tr style=\"text-align: right;\">\n",
       "      <th></th>\n",
       "      <th>gender</th>\n",
       "      <th>age</th>\n",
       "      <th>id</th>\n",
       "      <th>became_member_on</th>\n",
       "      <th>income</th>\n",
       "    </tr>\n",
       "  </thead>\n",
       "  <tbody>\n",
       "    <tr>\n",
       "      <th>1</th>\n",
       "      <td>F</td>\n",
       "      <td>55</td>\n",
       "      <td>399</td>\n",
       "      <td>2017-07-15</td>\n",
       "      <td>112000.0</td>\n",
       "    </tr>\n",
       "    <tr>\n",
       "      <th>3</th>\n",
       "      <td>F</td>\n",
       "      <td>75</td>\n",
       "      <td>7997</td>\n",
       "      <td>2017-05-09</td>\n",
       "      <td>100000.0</td>\n",
       "    </tr>\n",
       "    <tr>\n",
       "      <th>5</th>\n",
       "      <td>M</td>\n",
       "      <td>68</td>\n",
       "      <td>15044</td>\n",
       "      <td>2018-04-26</td>\n",
       "      <td>70000.0</td>\n",
       "    </tr>\n",
       "    <tr>\n",
       "      <th>8</th>\n",
       "      <td>M</td>\n",
       "      <td>65</td>\n",
       "      <td>3729</td>\n",
       "      <td>2018-02-09</td>\n",
       "      <td>53000.0</td>\n",
       "    </tr>\n",
       "    <tr>\n",
       "      <th>12</th>\n",
       "      <td>M</td>\n",
       "      <td>58</td>\n",
       "      <td>3060</td>\n",
       "      <td>2017-11-11</td>\n",
       "      <td>51000.0</td>\n",
       "    </tr>\n",
       "  </tbody>\n",
       "</table>\n",
       "</div>"
      ],
      "text/plain": [
       "   gender  age     id became_member_on    income\n",
       "1       F   55    399       2017-07-15  112000.0\n",
       "3       F   75   7997       2017-05-09  100000.0\n",
       "5       M   68  15044       2018-04-26   70000.0\n",
       "8       M   65   3729       2018-02-09   53000.0\n",
       "12      M   58   3060       2017-11-11   51000.0"
      ]
     },
     "execution_count": 117,
     "metadata": {},
     "output_type": "execute_result"
    }
   ],
   "source": [
    "#remove the 2175 rows\n",
    "profile.dropna(inplace=True)\n",
    "\n",
    "print('profile' ,profile.shape)\n",
    "\n",
    "#3- format 'became_member_of' column to Y-M-D\n",
    "profile['became_member_on'] = pd.to_datetime(profile['became_member_on'],format='%Y%m%d')\n",
    "\n",
    "profile.head()"
   ]
  },
  {
   "cell_type": "code",
   "execution_count": 118,
   "metadata": {},
   "outputs": [
    {
     "name": "stdout",
     "output_type": "stream",
     "text": [
      "Empty DataFrame\n",
      "Columns: [gender, age, id, became_member_on, income]\n",
      "Index: []\n"
     ]
    }
   ],
   "source": [
    "print(profile[profile.duplicated()])"
   ]
  },
  {
   "cell_type": "markdown",
   "metadata": {},
   "source": [
    "### transcript dataset \n",
    "In this dataset we can do the following:\n",
    "1. Expand \"event\" into binary columns of all different events in the dataset\n",
    "2. Edit the 'value' column and expand it into (offer_id, amount, reward) columns\n",
    "3. map the person and offer id to their respective integers.\n",
    "4. check for duplicate and Nan events"
   ]
  },
  {
   "cell_type": "code",
   "execution_count": 119,
   "metadata": {},
   "outputs": [],
   "source": [
    "# 1- Expand \"event\" into binary columns of all different events in the dataset\n",
    "event_dummy = pd.get_dummies(transcript['event'])\n",
    "# Concatinate new columns to transcript\n",
    "transcript = pd.concat([transcript, event_dummy],axis = 1).drop(['event'],axis=1)\n",
    "\n",
    "\n",
    "# 2-Edit the 'value' column and expand it into (offer_id, amount, reward) columns\n",
    "\n",
    "# Create offer_id column to hold the offer id of the value column. If no offer_id, replace it with Nan.\n",
    "transcript['offer_id'] = transcript.value.apply(lambda x: x['offer id'] if 'offer id' in x else\\\n",
    "                                                x['offer_id'] if 'offer_id' in x else np.nan)\n",
    "\n",
    "#Create amount column to hold the transaction amount. If no amount, replace it with zero\n",
    "transcript['amount'] = transcript.value.apply(lambda x: x['amount'] if 'amount' in x else 0)\n",
    "                                                \n",
    "# Generate reward column to hold the reward value. If no reward, replace it with zero.\n",
    "transcript['reward_given'] = transcript.value.apply(lambda x: x['reward'] if 'reward' in x else 0)\n",
    "\n",
    "# Remove value column\n",
    "transcript.drop(['value'],axis=1,inplace=True)\n",
    "\n",
    "# 3- map the person and offer id to their respective integers.\n",
    "transcript = map_string_to_int(transcript,'offer_id',offer_map)\n",
    "transcript = map_string_to_int(transcript,'person',profile_map)"
   ]
  },
  {
   "cell_type": "code",
   "execution_count": 120,
   "metadata": {},
   "outputs": [
    {
     "data": {
      "text/html": [
       "<div>\n",
       "<style scoped>\n",
       "    .dataframe tbody tr th:only-of-type {\n",
       "        vertical-align: middle;\n",
       "    }\n",
       "\n",
       "    .dataframe tbody tr th {\n",
       "        vertical-align: top;\n",
       "    }\n",
       "\n",
       "    .dataframe thead th {\n",
       "        text-align: right;\n",
       "    }\n",
       "</style>\n",
       "<table border=\"1\" class=\"dataframe\">\n",
       "  <thead>\n",
       "    <tr style=\"text-align: right;\">\n",
       "      <th></th>\n",
       "      <th>person</th>\n",
       "      <th>time</th>\n",
       "      <th>offer completed</th>\n",
       "      <th>offer received</th>\n",
       "      <th>offer viewed</th>\n",
       "      <th>transaction</th>\n",
       "      <th>offer_id</th>\n",
       "      <th>amount</th>\n",
       "      <th>reward_given</th>\n",
       "    </tr>\n",
       "  </thead>\n",
       "  <tbody>\n",
       "    <tr>\n",
       "      <th>0</th>\n",
       "      <td>7997</td>\n",
       "      <td>0</td>\n",
       "      <td>0</td>\n",
       "      <td>1</td>\n",
       "      <td>0</td>\n",
       "      <td>0</td>\n",
       "      <td>7.0</td>\n",
       "      <td>0.0</td>\n",
       "      <td>0</td>\n",
       "    </tr>\n",
       "    <tr>\n",
       "      <th>1</th>\n",
       "      <td>10736</td>\n",
       "      <td>0</td>\n",
       "      <td>0</td>\n",
       "      <td>1</td>\n",
       "      <td>0</td>\n",
       "      <td>0</td>\n",
       "      <td>1.0</td>\n",
       "      <td>0.0</td>\n",
       "      <td>0</td>\n",
       "    </tr>\n",
       "    <tr>\n",
       "      <th>2</th>\n",
       "      <td>15044</td>\n",
       "      <td>0</td>\n",
       "      <td>0</td>\n",
       "      <td>1</td>\n",
       "      <td>0</td>\n",
       "      <td>0</td>\n",
       "      <td>3.0</td>\n",
       "      <td>0.0</td>\n",
       "      <td>0</td>\n",
       "    </tr>\n",
       "    <tr>\n",
       "      <th>3</th>\n",
       "      <td>9525</td>\n",
       "      <td>0</td>\n",
       "      <td>0</td>\n",
       "      <td>1</td>\n",
       "      <td>0</td>\n",
       "      <td>0</td>\n",
       "      <td>10.0</td>\n",
       "      <td>0.0</td>\n",
       "      <td>0</td>\n",
       "    </tr>\n",
       "    <tr>\n",
       "      <th>4</th>\n",
       "      <td>6940</td>\n",
       "      <td>0</td>\n",
       "      <td>0</td>\n",
       "      <td>1</td>\n",
       "      <td>0</td>\n",
       "      <td>0</td>\n",
       "      <td>5.0</td>\n",
       "      <td>0.0</td>\n",
       "      <td>0</td>\n",
       "    </tr>\n",
       "  </tbody>\n",
       "</table>\n",
       "</div>"
      ],
      "text/plain": [
       "   person  time  offer completed  offer received  offer viewed  transaction  \\\n",
       "0    7997     0                0               1             0            0   \n",
       "1   10736     0                0               1             0            0   \n",
       "2   15044     0                0               1             0            0   \n",
       "3    9525     0                0               1             0            0   \n",
       "4    6940     0                0               1             0            0   \n",
       "\n",
       "   offer_id  amount  reward_given  \n",
       "0       7.0     0.0             0  \n",
       "1       1.0     0.0             0  \n",
       "2       3.0     0.0             0  \n",
       "3      10.0     0.0             0  \n",
       "4       5.0     0.0             0  "
      ]
     },
     "execution_count": 120,
     "metadata": {},
     "output_type": "execute_result"
    }
   ],
   "source": [
    "transcript.head()"
   ]
  },
  {
   "cell_type": "code",
   "execution_count": 121,
   "metadata": {},
   "outputs": [
    {
     "data": {
      "text/plain": [
       "(306137, 9)"
      ]
     },
     "execution_count": 121,
     "metadata": {},
     "output_type": "execute_result"
    }
   ],
   "source": [
    "#print(transcript[transcript.duplicated()])\n",
    "# Remove duplicated rows\n",
    "transcript.drop_duplicates(inplace=True)\n",
    "\n",
    "transcript.shape"
   ]
  },
  {
   "cell_type": "markdown",
   "metadata": {},
   "source": [
    "# Data Exploration\n",
    "After data was cleaned, we will explore differnt features and answer some questions with the help of charts."
   ]
  },
  {
   "cell_type": "code",
   "execution_count": 122,
   "metadata": {},
   "outputs": [],
   "source": [
    "sns.set()\n",
    "base_color = sns.color_palette()"
   ]
  },
  {
   "cell_type": "markdown",
   "metadata": {},
   "source": [
    "### Q1. What are the users age and gender distribution in the dataset?"
   ]
  },
  {
   "cell_type": "code",
   "execution_count": 123,
   "metadata": {},
   "outputs": [
    {
     "data": {
      "image/png": "[encoded data removed]",
      "text/plain": [
       "<Figure size 1080x432 with 2 Axes>"
      ]
     },
     "metadata": {},
     "output_type": "display_data"
    }
   ],
   "source": [
    "#age histogram\n",
    "age_dist = profile['age']\n",
    "plt.figure(figsize = [15,6])\n",
    "plt.subplot(1,2,1)\n",
    "plt.hist(age_dist, bins = 30);\n",
    "plt.title('Age Distribution')\n",
    "plt.xlabel('Age (years)',fontsize=20,labelpad=10)\n",
    "plt.ylabel('Number of Users',fontsize=20,labelpad=10);\n",
    "plt.xticks(fontsize=15);\n",
    "plt.yticks(fontsize=15);\n",
    "\n",
    "\n",
    "plt.subplot(1,2,2)\n",
    "gend_dist = profile['gender'].value_counts()\n",
    "gend_dist.plot(kind='pie',startangle = 90,counterclock=False,autopct='%1.0f%%',\\\n",
    "               labels=['Male','Female','Other'],\\\n",
    "               textprops={'fontsize': 18},pctdistance=1.12,labeldistance=1.3)\n",
    "plt.ylabel('')\n",
    "plt.xlabel('Gender Distribution',fontsize=20);"
   ]
  },
  {
   "cell_type": "markdown",
   "metadata": {},
   "source": [
    "### Q2. How is the data distributed between different events?"
   ]
  },
  {
   "cell_type": "code",
   "execution_count": 124,
   "metadata": {},
   "outputs": [
    {
     "data": {
      "image/png": "[encoded data removed]",
      "text/plain": [
       "<Figure size 1080x576 with 2 Axes>"
      ]
     },
     "metadata": {},
     "output_type": "display_data"
    }
   ],
   "source": [
    "event_dist = transcript[['offer received','offer viewed','offer completed','transaction']].sum()\n",
    "\n",
    "# Plotting\n",
    "plt.figure(figsize = [15,8])\n",
    "\n",
    "# Bar chart\n",
    "plt.subplot(1,2,1)\n",
    "event_dist.plot(kind='bar' , color = base_color)\n",
    "plt.xticks([0,1,2,3],['Received Offers','Viewed Offers','Completed Offers','Transactions'],rotation = 20,\\\n",
    "          fontsize=15);\n",
    "plt.ylabel('Count',fontsize=20,labelpad=10,rotation = 90)\n",
    "plt.yticks(fontsize=15);\n",
    "\n",
    "# Pie chart\n",
    "plt.subplot(1,2,2)\n",
    "event_dist.plot(kind='pie',startangle = 45,counterclock=False,autopct='%1.0f%%',\\\n",
    "                labels=['Received Offers','Viewed Offers','Completed Offers','Transactions'],\\\n",
    "                textprops={'fontsize': 18})\n",
    "plt.ylabel('')\n",
    "plt.xlabel('Event Distribution',fontsize=20,labelpad=30);"
   ]
  },
  {
   "cell_type": "markdown",
   "metadata": {},
   "source": [
    "As expected, not all recieved offers were viewed and not all recieved offers were completed. The dataset contains 45% transaction events and 55% offer events."
   ]
  },
  {
   "cell_type": "markdown",
   "metadata": {},
   "source": [
    "**In order to dive deeper and explore the offers with relation to the users and their types, we will need to modify the data** "
   ]
  },
  {
   "cell_type": "code",
   "execution_count": 125,
   "metadata": {},
   "outputs": [],
   "source": [
    "#In order to see the percentage of each offer type recieved, we will need to create a new df combining the three datasets.\n",
    "#To start off, we will need to rename some columns.\n",
    "portfolio.rename(columns={\"id\":\"offer_id\",\"reward\":\"offer_reward\"},inplace=True)\n",
    "transcript.rename(columns={\"person\":\"user_id\",\"offer completed\":\"offer_completed\",\"offer received\":\"offer_received\",\"offer viewed\":\"offer_viewed\"},inplace=True)\n",
    "profile.rename(columns={\"id\":\"user_id\"},inplace=True)"
   ]
  },
  {
   "cell_type": "code",
   "execution_count": 126,
   "metadata": {},
   "outputs": [
    {
     "data": {
      "text/html": [
       "<div>\n",
       "<style scoped>\n",
       "    .dataframe tbody tr th:only-of-type {\n",
       "        vertical-align: middle;\n",
       "    }\n",
       "\n",
       "    .dataframe tbody tr th {\n",
       "        vertical-align: top;\n",
       "    }\n",
       "\n",
       "    .dataframe thead th {\n",
       "        text-align: right;\n",
       "    }\n",
       "</style>\n",
       "<table border=\"1\" class=\"dataframe\">\n",
       "  <thead>\n",
       "    <tr style=\"text-align: right;\">\n",
       "      <th></th>\n",
       "      <th>user_id</th>\n",
       "      <th>time</th>\n",
       "      <th>offer_completed</th>\n",
       "      <th>offer_received</th>\n",
       "      <th>offer_viewed</th>\n",
       "      <th>transaction</th>\n",
       "      <th>offer_id</th>\n",
       "      <th>amount</th>\n",
       "      <th>reward_given</th>\n",
       "      <th>offer_reward</th>\n",
       "      <th>...</th>\n",
       "      <th>discount</th>\n",
       "      <th>informational</th>\n",
       "      <th>email</th>\n",
       "      <th>mobile</th>\n",
       "      <th>social</th>\n",
       "      <th>web</th>\n",
       "      <th>gender</th>\n",
       "      <th>age</th>\n",
       "      <th>became_member_on</th>\n",
       "      <th>income</th>\n",
       "    </tr>\n",
       "  </thead>\n",
       "  <tbody>\n",
       "    <tr>\n",
       "      <th>0</th>\n",
       "      <td>7997</td>\n",
       "      <td>0</td>\n",
       "      <td>0</td>\n",
       "      <td>1</td>\n",
       "      <td>0</td>\n",
       "      <td>0</td>\n",
       "      <td>7.0</td>\n",
       "      <td>0.00</td>\n",
       "      <td>0</td>\n",
       "      <td>5.0</td>\n",
       "      <td>...</td>\n",
       "      <td>0.0</td>\n",
       "      <td>0.0</td>\n",
       "      <td>1.0</td>\n",
       "      <td>1.0</td>\n",
       "      <td>0.0</td>\n",
       "      <td>1.0</td>\n",
       "      <td>F</td>\n",
       "      <td>75</td>\n",
       "      <td>2017-05-09</td>\n",
       "      <td>100000.0</td>\n",
       "    </tr>\n",
       "    <tr>\n",
       "      <th>1</th>\n",
       "      <td>7997</td>\n",
       "      <td>6</td>\n",
       "      <td>0</td>\n",
       "      <td>0</td>\n",
       "      <td>1</td>\n",
       "      <td>0</td>\n",
       "      <td>7.0</td>\n",
       "      <td>0.00</td>\n",
       "      <td>0</td>\n",
       "      <td>5.0</td>\n",
       "      <td>...</td>\n",
       "      <td>0.0</td>\n",
       "      <td>0.0</td>\n",
       "      <td>1.0</td>\n",
       "      <td>1.0</td>\n",
       "      <td>0.0</td>\n",
       "      <td>1.0</td>\n",
       "      <td>F</td>\n",
       "      <td>75</td>\n",
       "      <td>2017-05-09</td>\n",
       "      <td>100000.0</td>\n",
       "    </tr>\n",
       "    <tr>\n",
       "      <th>2</th>\n",
       "      <td>7997</td>\n",
       "      <td>132</td>\n",
       "      <td>0</td>\n",
       "      <td>0</td>\n",
       "      <td>0</td>\n",
       "      <td>1</td>\n",
       "      <td>NaN</td>\n",
       "      <td>19.89</td>\n",
       "      <td>0</td>\n",
       "      <td>NaN</td>\n",
       "      <td>...</td>\n",
       "      <td>NaN</td>\n",
       "      <td>NaN</td>\n",
       "      <td>NaN</td>\n",
       "      <td>NaN</td>\n",
       "      <td>NaN</td>\n",
       "      <td>NaN</td>\n",
       "      <td>F</td>\n",
       "      <td>75</td>\n",
       "      <td>2017-05-09</td>\n",
       "      <td>100000.0</td>\n",
       "    </tr>\n",
       "    <tr>\n",
       "      <th>3</th>\n",
       "      <td>7997</td>\n",
       "      <td>132</td>\n",
       "      <td>1</td>\n",
       "      <td>0</td>\n",
       "      <td>0</td>\n",
       "      <td>0</td>\n",
       "      <td>7.0</td>\n",
       "      <td>0.00</td>\n",
       "      <td>5</td>\n",
       "      <td>5.0</td>\n",
       "      <td>...</td>\n",
       "      <td>0.0</td>\n",
       "      <td>0.0</td>\n",
       "      <td>1.0</td>\n",
       "      <td>1.0</td>\n",
       "      <td>0.0</td>\n",
       "      <td>1.0</td>\n",
       "      <td>F</td>\n",
       "      <td>75</td>\n",
       "      <td>2017-05-09</td>\n",
       "      <td>100000.0</td>\n",
       "    </tr>\n",
       "    <tr>\n",
       "      <th>4</th>\n",
       "      <td>7997</td>\n",
       "      <td>144</td>\n",
       "      <td>0</td>\n",
       "      <td>0</td>\n",
       "      <td>0</td>\n",
       "      <td>1</td>\n",
       "      <td>NaN</td>\n",
       "      <td>17.78</td>\n",
       "      <td>0</td>\n",
       "      <td>NaN</td>\n",
       "      <td>...</td>\n",
       "      <td>NaN</td>\n",
       "      <td>NaN</td>\n",
       "      <td>NaN</td>\n",
       "      <td>NaN</td>\n",
       "      <td>NaN</td>\n",
       "      <td>NaN</td>\n",
       "      <td>F</td>\n",
       "      <td>75</td>\n",
       "      <td>2017-05-09</td>\n",
       "      <td>100000.0</td>\n",
       "    </tr>\n",
       "  </tbody>\n",
       "</table>\n",
       "<p>5 rows × 24 columns</p>\n",
       "</div>"
      ],
      "text/plain": [
       "   user_id  time  offer_completed  offer_received  offer_viewed  transaction  \\\n",
       "0     7997     0                0               1             0            0   \n",
       "1     7997     6                0               0             1            0   \n",
       "2     7997   132                0               0             0            1   \n",
       "3     7997   132                1               0             0            0   \n",
       "4     7997   144                0               0             0            1   \n",
       "\n",
       "   offer_id  amount  reward_given  offer_reward  ...  discount  informational  \\\n",
       "0       7.0    0.00             0           5.0  ...       0.0            0.0   \n",
       "1       7.0    0.00             0           5.0  ...       0.0            0.0   \n",
       "2       NaN   19.89             0           NaN  ...       NaN            NaN   \n",
       "3       7.0    0.00             5           5.0  ...       0.0            0.0   \n",
       "4       NaN   17.78             0           NaN  ...       NaN            NaN   \n",
       "\n",
       "  email  mobile  social  web  gender  age  became_member_on    income  \n",
       "0   1.0     1.0     0.0  1.0       F   75        2017-05-09  100000.0  \n",
       "1   1.0     1.0     0.0  1.0       F   75        2017-05-09  100000.0  \n",
       "2   NaN     NaN     NaN  NaN       F   75        2017-05-09  100000.0  \n",
       "3   1.0     1.0     0.0  1.0       F   75        2017-05-09  100000.0  \n",
       "4   NaN     NaN     NaN  NaN       F   75        2017-05-09  100000.0  \n",
       "\n",
       "[5 rows x 24 columns]"
      ]
     },
     "execution_count": 126,
     "metadata": {},
     "output_type": "execute_result"
    }
   ],
   "source": [
    "full_df = pd.merge(transcript, portfolio, on='offer_id',how='left')\n",
    "full_df = pd.merge(full_df, profile, on='user_id')\n",
    "full_df.head()"
   ]
  },
  {
   "cell_type": "markdown",
   "metadata": {},
   "source": [
    "### Q3. What are the percentages of each offer type sent?"
   ]
  },
  {
   "cell_type": "code",
   "execution_count": 128,
   "metadata": {},
   "outputs": [
    {
     "data": {
      "image/png": "[encoded data removed]",
      "text/plain": [
       "<Figure size 1080x432 with 2 Axes>"
      ]
     },
     "metadata": {},
     "output_type": "display_data"
    }
   ],
   "source": [
    "offer_types_dist = full_df[full_df['offer_received']==1][['bogo','discount','informational']].sum()\n",
    "\n",
    "# Plotting\n",
    "plt.figure(figsize = [15,6])\n",
    "\n",
    "# Bar chart\n",
    "plt.subplot(1,2,1)\n",
    "offer_types_dist.plot(kind='bar',color=base_color)\n",
    "plt.xticks([0,1,2,3],['Buy 1 Get 1','Discount','Informational'],rotation = 0,fontsize=15);\n",
    "plt.ylabel('Count',fontsize=20,labelpad=10,rotation = 90)\n",
    "plt.yticks(fontsize=15);\n",
    "\n",
    "\n",
    "# Pie chart\n",
    "plt.subplot(1,2,2)\n",
    "offer_types_dist.plot(kind='pie',startangle = 45,counterclock=False,autopct='%1.0f%%',\\\n",
    "                labels=['Buy 1 Get 1','Discount','Informational'],\\\n",
    "                textprops={'fontsize': 18})\n",
    "plt.ylabel('')\n",
    "plt.xlabel('Event Distribution',fontsize=20,labelpad=30);"
   ]
  },
  {
   "cell_type": "markdown",
   "metadata": {},
   "source": [
    "To explore the features relating to completed offers, we will need to find the offers that are successfully completed.\n",
    "**Successfully completed offers** are offers where users received an offer, viewed it, and then completed the offer during the offer period."
   ]
  },
  {
   "cell_type": "code",
   "execution_count": 129,
   "metadata": {},
   "outputs": [],
   "source": [
    "def filter_dataset(df,column,val):\n",
    "    \"\"\" \n",
    "    Filter dataset based on a column specified value.\n",
    "  \n",
    "    Parameters: \n",
    "    pd (pandas dataframe): original dataframe \n",
    "    column (string): the name of column where filtering is needed\n",
    "    val (int or string): the required value of pd[column]\n",
    "    \n",
    "    Returns: \n",
    "    df_filtered (pandas dataframe): filtered dataframe after column condition is applied \n",
    "  \n",
    "    \"\"\"\n",
    "    df_filtered = df[df[column] == val]\n",
    "    return df_filtered"
   ]
  },
  {
   "cell_type": "code",
   "execution_count": 130,
   "metadata": {},
   "outputs": [],
   "source": [
    "offer_received = filter_dataset(full_df,'offer_received',1)\n",
    "offer_viewed = filter_dataset(full_df,'offer_viewed',1)\n",
    "offer_viewed = offer_viewed[['user_id','offer_id','time']]\n",
    "offer_completed = filter_dataset(full_df,'offer_completed',1)\n",
    "offer_completed = offer_completed[['user_id','offer_id','time']] "
   ]
  },
  {
   "cell_type": "code",
   "execution_count": 131,
   "metadata": {},
   "outputs": [],
   "source": [
    "# merge completed and viewd dataframes\n",
    "completed_df = pd.merge(offer_completed,offer_viewed, on=['offer_id','user_id'],\\\n",
    "                     suffixes=('_completed','_viewed'))"
   ]
  },
  {
   "cell_type": "code",
   "execution_count": 132,
   "metadata": {},
   "outputs": [
    {
     "name": "stderr",
     "output_type": "stream",
     "text": [
      "/home/shahed/.local/lib/python3.6/site-packages/pandas/core/frame.py:4133: SettingWithCopyWarning: \n",
      "A value is trying to be set on a copy of a slice from a DataFrame\n",
      "\n",
      "See the caveats in the documentation: https://pandas.pydata.org/pandas-docs/stable/user_guide/indexing.html#returning-a-view-versus-a-copy\n",
      "  errors=errors,\n"
     ]
    }
   ],
   "source": [
    "# merge them with received dataframe\n",
    "offer_received.rename(columns = {\"time\": \"time_received\"},inplace=True)\n",
    "completed_df = pd.merge(completed_df,offer_received, on=['offer_id','user_id'])"
   ]
  },
  {
   "cell_type": "markdown",
   "metadata": {},
   "source": [
    "Now we need to filter data such that the timing are consistent."
   ]
  },
  {
   "cell_type": "code",
   "execution_count": 133,
   "metadata": {},
   "outputs": [],
   "source": [
    "#add time_expire column to represent when an offer will expire\n",
    "completed_df['time_expired'] = completed_df.apply(lambda e: e.duration * 24 + e.time_received, axis=1)"
   ]
  },
  {
   "cell_type": "markdown",
   "metadata": {},
   "source": [
    "Now we have a dataset that includes all offers that were recieved, viewed, and completed. We need to do a final check to see that **the user viewed the offer after it was received and completed it before the offer expires**."
   ]
  },
  {
   "cell_type": "code",
   "execution_count": 134,
   "metadata": {},
   "outputs": [],
   "source": [
    "completed_df = completed_df[(completed_df['time_received'] <= completed_df['time_viewed'])&\\\n",
    "                     (completed_df['time_completed'] <= completed_df['time_expired']) & (completed_df['time_viewed'] <= completed_df['time_completed']) ]"
   ]
  },
  {
   "cell_type": "code",
   "execution_count": 135,
   "metadata": {},
   "outputs": [],
   "source": [
    "completed_df['offer_completed'] = 1\n",
    "completed_df['offer_viewed'] = 1"
   ]
  },
  {
   "cell_type": "code",
   "execution_count": 136,
   "metadata": {},
   "outputs": [],
   "source": [
    "#remove any duplicates in the dataset\n",
    "completed_df = completed_df.drop_duplicates(subset=['offer_id','user_id','time_completed'])\n",
    "completed_df = completed_df.drop_duplicates(subset=['offer_id','user_id','time_viewed'])\n",
    "completed_df = completed_df.drop_duplicates(subset=['offer_id','user_id','time_received'])"
   ]
  },
  {
   "cell_type": "code",
   "execution_count": 137,
   "metadata": {},
   "outputs": [
    {
     "data": {
      "text/html": [
       "<div>\n",
       "<style scoped>\n",
       "    .dataframe tbody tr th:only-of-type {\n",
       "        vertical-align: middle;\n",
       "    }\n",
       "\n",
       "    .dataframe tbody tr th {\n",
       "        vertical-align: top;\n",
       "    }\n",
       "\n",
       "    .dataframe thead th {\n",
       "        text-align: right;\n",
       "    }\n",
       "</style>\n",
       "<table border=\"1\" class=\"dataframe\">\n",
       "  <thead>\n",
       "    <tr style=\"text-align: right;\">\n",
       "      <th></th>\n",
       "      <th>user_id</th>\n",
       "      <th>offer_id</th>\n",
       "      <th>time_completed</th>\n",
       "      <th>time_viewed</th>\n",
       "      <th>time_received</th>\n",
       "      <th>offer_completed</th>\n",
       "      <th>offer_received</th>\n",
       "      <th>offer_viewed</th>\n",
       "      <th>transaction</th>\n",
       "      <th>amount</th>\n",
       "      <th>...</th>\n",
       "      <th>informational</th>\n",
       "      <th>email</th>\n",
       "      <th>mobile</th>\n",
       "      <th>social</th>\n",
       "      <th>web</th>\n",
       "      <th>gender</th>\n",
       "      <th>age</th>\n",
       "      <th>became_member_on</th>\n",
       "      <th>income</th>\n",
       "      <th>time_expired</th>\n",
       "    </tr>\n",
       "  </thead>\n",
       "  <tbody>\n",
       "    <tr>\n",
       "      <th>0</th>\n",
       "      <td>7997</td>\n",
       "      <td>7.0</td>\n",
       "      <td>132</td>\n",
       "      <td>6</td>\n",
       "      <td>0</td>\n",
       "      <td>1</td>\n",
       "      <td>1</td>\n",
       "      <td>1</td>\n",
       "      <td>0</td>\n",
       "      <td>0.0</td>\n",
       "      <td>...</td>\n",
       "      <td>0.0</td>\n",
       "      <td>1.0</td>\n",
       "      <td>1.0</td>\n",
       "      <td>0.0</td>\n",
       "      <td>1.0</td>\n",
       "      <td>F</td>\n",
       "      <td>75</td>\n",
       "      <td>2017-05-09</td>\n",
       "      <td>100000.0</td>\n",
       "      <td>168.0</td>\n",
       "    </tr>\n",
       "    <tr>\n",
       "      <th>1</th>\n",
       "      <td>7997</td>\n",
       "      <td>8.0</td>\n",
       "      <td>510</td>\n",
       "      <td>408</td>\n",
       "      <td>408</td>\n",
       "      <td>1</td>\n",
       "      <td>1</td>\n",
       "      <td>1</td>\n",
       "      <td>0</td>\n",
       "      <td>0.0</td>\n",
       "      <td>...</td>\n",
       "      <td>0.0</td>\n",
       "      <td>1.0</td>\n",
       "      <td>1.0</td>\n",
       "      <td>1.0</td>\n",
       "      <td>0.0</td>\n",
       "      <td>F</td>\n",
       "      <td>75</td>\n",
       "      <td>2017-05-09</td>\n",
       "      <td>100000.0</td>\n",
       "      <td>576.0</td>\n",
       "    </tr>\n",
       "    <tr>\n",
       "      <th>3</th>\n",
       "      <td>15044</td>\n",
       "      <td>7.0</td>\n",
       "      <td>522</td>\n",
       "      <td>420</td>\n",
       "      <td>408</td>\n",
       "      <td>1</td>\n",
       "      <td>1</td>\n",
       "      <td>1</td>\n",
       "      <td>0</td>\n",
       "      <td>0.0</td>\n",
       "      <td>...</td>\n",
       "      <td>0.0</td>\n",
       "      <td>1.0</td>\n",
       "      <td>1.0</td>\n",
       "      <td>0.0</td>\n",
       "      <td>1.0</td>\n",
       "      <td>M</td>\n",
       "      <td>68</td>\n",
       "      <td>2018-04-26</td>\n",
       "      <td>70000.0</td>\n",
       "      <td>576.0</td>\n",
       "    </tr>\n",
       "    <tr>\n",
       "      <th>4</th>\n",
       "      <td>15044</td>\n",
       "      <td>10.0</td>\n",
       "      <td>522</td>\n",
       "      <td>522</td>\n",
       "      <td>504</td>\n",
       "      <td>1</td>\n",
       "      <td>1</td>\n",
       "      <td>1</td>\n",
       "      <td>0</td>\n",
       "      <td>0.0</td>\n",
       "      <td>...</td>\n",
       "      <td>0.0</td>\n",
       "      <td>1.0</td>\n",
       "      <td>1.0</td>\n",
       "      <td>1.0</td>\n",
       "      <td>1.0</td>\n",
       "      <td>M</td>\n",
       "      <td>68</td>\n",
       "      <td>2018-04-26</td>\n",
       "      <td>70000.0</td>\n",
       "      <td>744.0</td>\n",
       "    </tr>\n",
       "    <tr>\n",
       "      <th>5</th>\n",
       "      <td>3729</td>\n",
       "      <td>9.0</td>\n",
       "      <td>60</td>\n",
       "      <td>0</td>\n",
       "      <td>0</td>\n",
       "      <td>1</td>\n",
       "      <td>1</td>\n",
       "      <td>1</td>\n",
       "      <td>0</td>\n",
       "      <td>0.0</td>\n",
       "      <td>...</td>\n",
       "      <td>0.0</td>\n",
       "      <td>1.0</td>\n",
       "      <td>1.0</td>\n",
       "      <td>1.0</td>\n",
       "      <td>1.0</td>\n",
       "      <td>M</td>\n",
       "      <td>65</td>\n",
       "      <td>2018-02-09</td>\n",
       "      <td>53000.0</td>\n",
       "      <td>120.0</td>\n",
       "    </tr>\n",
       "  </tbody>\n",
       "</table>\n",
       "<p>5 rows × 27 columns</p>\n",
       "</div>"
      ],
      "text/plain": [
       "   user_id  offer_id  time_completed  time_viewed  time_received  \\\n",
       "0     7997       7.0             132            6              0   \n",
       "1     7997       8.0             510          408            408   \n",
       "3    15044       7.0             522          420            408   \n",
       "4    15044      10.0             522          522            504   \n",
       "5     3729       9.0              60            0              0   \n",
       "\n",
       "   offer_completed  offer_received  offer_viewed  transaction  amount  ...  \\\n",
       "0                1               1             1            0     0.0  ...   \n",
       "1                1               1             1            0     0.0  ...   \n",
       "3                1               1             1            0     0.0  ...   \n",
       "4                1               1             1            0     0.0  ...   \n",
       "5                1               1             1            0     0.0  ...   \n",
       "\n",
       "   informational  email  mobile  social  web  gender  age  became_member_on  \\\n",
       "0            0.0    1.0     1.0     0.0  1.0       F   75        2017-05-09   \n",
       "1            0.0    1.0     1.0     1.0  0.0       F   75        2017-05-09   \n",
       "3            0.0    1.0     1.0     0.0  1.0       M   68        2018-04-26   \n",
       "4            0.0    1.0     1.0     1.0  1.0       M   68        2018-04-26   \n",
       "5            0.0    1.0     1.0     1.0  1.0       M   65        2018-02-09   \n",
       "\n",
       "     income  time_expired  \n",
       "0  100000.0         168.0  \n",
       "1  100000.0         576.0  \n",
       "3   70000.0         576.0  \n",
       "4   70000.0         744.0  \n",
       "5   53000.0         120.0  \n",
       "\n",
       "[5 rows x 27 columns]"
      ]
     },
     "execution_count": 137,
     "metadata": {},
     "output_type": "execute_result"
    }
   ],
   "source": [
    "completed_df.head()"
   ]
  },
  {
   "cell_type": "code",
   "execution_count": 138,
   "metadata": {},
   "outputs": [
    {
     "data": {
      "text/plain": [
       "(22192, 27)"
      ]
     },
     "execution_count": 138,
     "metadata": {},
     "output_type": "execute_result"
    }
   ],
   "source": [
    "completed_df.shape"
   ]
  },
  {
   "cell_type": "markdown",
   "metadata": {},
   "source": [
    "### Q4. Which offer type had the highest completion rate?"
   ]
  },
  {
   "cell_type": "code",
   "execution_count": 139,
   "metadata": {},
   "outputs": [
    {
     "data": {
      "image/png": "[encoded data removed]",
      "text/plain": [
       "<Figure size 1080x432 with 2 Axes>"
      ]
     },
     "metadata": {},
     "output_type": "display_data"
    }
   ],
   "source": [
    "offer_types_dist = completed_df[['bogo','discount']].sum()\n",
    "\n",
    "# Plotting\n",
    "plt.figure(figsize = [15,6])\n",
    "\n",
    "# Bar chart\n",
    "plt.subplot(1,2,1)\n",
    "offer_types_dist.plot(kind='bar',color=base_color)\n",
    "plt.xticks([0,1,2,3],['Buy 1 Get 1','Discount'],rotation = 0,fontsize=15);\n",
    "plt.title('Completed Offers')\n",
    "plt.ylabel('Count',fontsize=20,labelpad=10,rotation = 90)\n",
    "plt.yticks(fontsize=15);\n",
    "\n",
    "# Pie chart\n",
    "plt.subplot(1,2,2)\n",
    "offer_types_dist.plot(kind='pie',startangle = 45,counterclock=False,autopct='%1.0f%%',\\\n",
    "                labels=['Buy 1 Get 1','Discount'],\\\n",
    "                textprops={'fontsize': 18})\n",
    "plt.ylabel('')\n",
    "plt.xlabel('Completed Offers',fontsize=20,labelpad=30);\n",
    "\n"
   ]
  },
  {
   "cell_type": "markdown",
   "metadata": {},
   "source": [
    "Although the total number of discount and BOGO offers sent are equal, it seems that discount offers are more likely to get completed. This is mostly due to the fact that you don't need to spend a certain amount to get a discount offer, in contrast to BOGO where you are required to meet a certain amount of spending."
   ]
  },
  {
   "cell_type": "markdown",
   "metadata": {},
   "source": [
    "### Q4. What is the relation between user demographics (age, gender) and offer completion?"
   ]
  },
  {
   "cell_type": "code",
   "execution_count": 140,
   "metadata": {},
   "outputs": [
    {
     "data": {
      "image/png": "[encoded data removed]",
      "text/plain": [
       "<Figure size 1296x432 with 2 Axes>"
      ]
     },
     "metadata": {},
     "output_type": "display_data"
    }
   ],
   "source": [
    "#age histogram\n",
    "age_dist = completed_df['age']\n",
    "plt.figure(figsize = [18,6])\n",
    "plt.subplot(1,2,1)\n",
    "plt.hist(age_dist, bins = 30);\n",
    "plt.title('Age Distribution for all users who completed their offers')\n",
    "plt.xlabel('Age (years)',fontsize=20,labelpad=10)\n",
    "plt.ylabel('Number of Users',fontsize=20,labelpad=10);\n",
    "plt.xticks(fontsize=15);\n",
    "plt.yticks(fontsize=15);\n",
    "\n",
    "\n",
    "plt.subplot(1,2,2)\n",
    "gend_dist = completed_df['gender'].value_counts()\n",
    "gend_dist.plot(kind='pie',startangle = 90,counterclock=False,autopct='%1.0f%%',\\\n",
    "               labels=['Male','Female','Other'],\\\n",
    "               textprops={'fontsize': 18},pctdistance=1.12,labeldistance=1.3)\n",
    "plt.ylabel('')\n",
    "plt.xlabel('Gender Distribution for users who completed their offers',fontsize=20);"
   ]
  },
  {
   "cell_type": "code",
   "execution_count": 141,
   "metadata": {},
   "outputs": [
    {
     "data": {
      "image/png": "[encoded data removed]",
      "text/plain": [
       "<Figure size 648x432 with 1 Axes>"
      ]
     },
     "metadata": {},
     "output_type": "display_data"
    }
   ],
   "source": [
    "plt.figure(figsize = [9,6])\n",
    "g = sns.countplot(x=\"gender\", hue=\"offer_type\", data=completed_df)\n",
    "plt.title('Completed offers per gender')\n",
    "plt.ylabel('Total')\n",
    "plt.xlabel('Gender')\n",
    "xlabels = ['Female', 'Male','Other']\n",
    "g.set_xticklabels(xlabels)\n",
    "plt.legend(title='Offer Type')\n",
    "plt.show();"
   ]
  },
  {
   "cell_type": "markdown",
   "metadata": {},
   "source": [
    "We see males complete more discount offers, whereas females complete bogo offers more."
   ]
  },
  {
   "cell_type": "code",
   "execution_count": 142,
   "metadata": {},
   "outputs": [
    {
     "data": {
      "image/png": "[encoded data removed]",
      "text/plain": [
       "<Figure size 1080x576 with 1 Axes>"
      ]
     },
     "metadata": {},
     "output_type": "display_data"
    }
   ],
   "source": [
    "plt.figure(figsize = [15,8])\n",
    "sns.countplot(x='offer_reward',hue='gender',data = completed_df)\n",
    "plt.legend(title='Gender', loc='upper right', labels=['Females', 'Males','Others']);\n",
    "plt.xticks(fontsize=15);\n",
    "plt.yticks(fontsize=15);\n",
    "\n",
    "plt.xlabel('Offers Reward ($)',fontsize=20,labelpad=10);\n",
    "plt.ylabel('Count',fontsize=20,labelpad=10);"
   ]
  },
  {
   "cell_type": "markdown",
   "metadata": {},
   "source": [
    "It looks like females are more attracted towards the $10 offer rewards than males. "
   ]
  },
  {
   "cell_type": "markdown",
   "metadata": {},
   "source": [
    "### Q5. What is average amount of spending by age?"
   ]
  },
  {
   "cell_type": "code",
   "execution_count": 143,
   "metadata": {},
   "outputs": [
    {
     "data": {
      "text/plain": [
       "Text(0, 0.5, 'Amount ($)')"
      ]
     },
     "execution_count": 143,
     "metadata": {},
     "output_type": "execute_result"
    },
    {
     "data": {
      "image/png": "[encoded data removed]",
      "text/plain": [
       "<Figure size 432x288 with 1 Axes>"
      ]
     },
     "metadata": {},
     "output_type": "display_data"
    }
   ],
   "source": [
    "transactions = full_df[full_df['transaction'] == 1]\n",
    "spending_avg = transactions.groupby('age').mean()\n",
    "plt.plot(spending_avg.index,spending_avg['amount'])\n",
    "plt.title('Average amount of spendings by age')\n",
    "plt.xlabel('Age')\n",
    "plt.ylabel('Amount ($)')"
   ]
  },
  {
   "cell_type": "markdown",
   "metadata": {},
   "source": [
    "# Data Modelling"
   ]
  },
  {
   "cell_type": "markdown",
   "metadata": {},
   "source": [
    "Now that we have analyzed the dataset, we will proceed by creating a model that would predict whether a user will respond to an offer or not.\n",
    "There are 4 scenarios that can happen:\n",
    "1. A user will view and complete the offer.\n",
    "2. A user will just view the offer.\n",
    "3. A user will not view the offer, but will complete it anyway (without prior knowledge of the offer existence)\n",
    "4. A user will not view the offer and will not complete it.\n",
    "\n",
    "Since starbucks are targetting users that will view the offer and complete it afterwards, our prediction would be a binary value as such:\n",
    "1: User will view and complete the offer\n",
    "0: Otherwise\n"
   ]
  },
  {
   "cell_type": "markdown",
   "metadata": {},
   "source": [
    "In order to proceed with the prediction, we will need to create a new dataframe that will include the targeted features and the prediction column. \n",
    "The features that will be analyzed are: \n",
    "* Age\n",
    "* Income\n",
    "* Gender\n",
    "* Offer_type\n",
    "* Reward\n",
    "* Duration\n",
    "* Difficulty\n",
    "* Channels\n",
    "\n",
    "\n"
   ]
  },
  {
   "cell_type": "markdown",
   "metadata": {},
   "source": [
    "A new column will be created \"offer_success\" to show wehther a user will successfully view and complete the offer."
   ]
  },
  {
   "cell_type": "markdown",
   "metadata": {},
   "source": [
    "From the datasets, Offer types BOGO and discount have a clear criteria for completion and can be founded by looking at the event column with value \"completed offer\" and then double check that the timing of completion and viewing and offer expiration are consistent."
   ]
  },
  {
   "cell_type": "markdown",
   "metadata": {},
   "source": [
    "However, dealing with informational offers is different. Since informational offers are advertisement offers that don't have a completion criteria, we will need to define how to consider them successful."
   ]
  },
  {
   "cell_type": "markdown",
   "metadata": {},
   "source": [
    "One way would be to look at all transactions and check if a transaction has occurred during an informational offer period. These transactions are considered to be influenced by the offer and thus the informational offer was successful. This is, of course, under the condition that a user has received and viewed the informational offer, THEN proceed to make a transaction."
   ]
  },
  {
   "cell_type": "markdown",
   "metadata": {},
   "source": [
    "In order to do that, i will create one dataset that includes all pairs (user_id and offer_id) of completed offers for Bogo and discount. I will also create another dataset that includes all pairs (user_id and offer_id) of completed offers for type informational."
   ]
  },
  {
   "cell_type": "markdown",
   "metadata": {},
   "source": [
    "Next, I will merge them together into a bigger dataset including all successfully completed offers."
   ]
  },
  {
   "cell_type": "code",
   "execution_count": 144,
   "metadata": {},
   "outputs": [],
   "source": [
    "#Create completed offer dataset for bogo and discount offers.\n",
    "offer_received_df = transcript[transcript['offer_received'] == 1][['offer_id','user_id','time']]\\\n",
    ".rename(columns={\"time\":\"time_received\"})\n",
    "\n",
    "offer_viewed_df = transcript[transcript['offer_viewed'] == 1][['offer_id','user_id','time']]\n",
    "\n",
    "offer_completed_df = transcript[transcript['offer_completed'] == 1][['offer_id','user_id','time']]\n",
    "\n",
    "complete_bogo_discount_df = pd.merge(offer_completed_df,offer_viewed_df, on=['offer_id','user_id'],\\\n",
    "                     suffixes=('_completed','_viewed'))\n",
    "\n",
    "# merge them with received dataframe\n",
    "complete_bogo_discount_df = pd.merge(complete_bogo_discount_df,offer_received_df, on=['offer_id','user_id'])"
   ]
  },
  {
   "cell_type": "code",
   "execution_count": 145,
   "metadata": {},
   "outputs": [],
   "source": [
    "#merge with portfolio to find time_expired column\n",
    "complete_bogo_discount_df = pd.merge(complete_bogo_discount_df, portfolio, on='offer_id')"
   ]
  },
  {
   "cell_type": "code",
   "execution_count": 146,
   "metadata": {},
   "outputs": [],
   "source": [
    "complete_bogo_discount_df['time_expire'] = complete_bogo_discount_df.apply(lambda x: x['time_received']+ x['duration']*24,axis =1)\n",
    "\n",
    "complete_bogo_discount_df = complete_bogo_discount_df[(complete_bogo_discount_df['time_received'] <= complete_bogo_discount_df['time_viewed']) \\\n",
    "                               & (complete_bogo_discount_df['time_viewed'] <= complete_bogo_discount_df['time_completed'])\\\n",
    "                               & (complete_bogo_discount_df['time_completed'] <= complete_bogo_discount_df['time_expire']) ]\n"
   ]
  },
  {
   "cell_type": "markdown",
   "metadata": {},
   "source": [
    "We have created the first dataset, we will repeat similar logic to create second dataset."
   ]
  },
  {
   "cell_type": "code",
   "execution_count": 147,
   "metadata": {},
   "outputs": [],
   "source": [
    "#Create completed offer dataset for inforamtional offer based on transaction.\n",
    "\n",
    "# Dataframe holding the events where a transaction took place\n",
    "transaction_df = transcript[(transcript['transaction'] == 1)][['user_id','time','amount']]\n",
    "\n",
    "# merge transaction and adv_viewd dataframes\n",
    "complete_info_df = pd.merge(transaction_df,offer_viewed_df, on=['user_id'],suffixes=('_transaction','_viewed'))\n",
    "\n",
    "# merge them with received dataframe\n",
    "complete_info_df = pd.merge(complete_info_df,offer_received_df, on=['offer_id','user_id'])\n",
    "\n",
    "\n",
    "complete_info_df = pd.merge(complete_info_df, portfolio, on='offer_id')\n",
    "# Calculate offer expiration\n",
    "complete_info_df['time_expire'] = complete_info_df.apply(lambda x: x['time_received']+ x['duration']*24,axis =1)\n",
    "\n",
    "#Choose only informational offer\n",
    "complete_info_df = complete_info_df[complete_info_df['informational'] == 1]"
   ]
  },
  {
   "cell_type": "code",
   "execution_count": 148,
   "metadata": {},
   "outputs": [],
   "source": [
    "#filter based on the mentioned criteria\n",
    "complete_info_df = complete_info_df[(complete_info_df['time_viewed'] >= complete_info_df['time_received']) &\\\n",
    "                 (complete_info_df['time_transaction'] <= complete_info_df['time_expire']) & \\\n",
    "                (complete_info_df['time_viewed'] <= complete_info_df['time_transaction'])]\n"
   ]
  },
  {
   "cell_type": "code",
   "execution_count": 149,
   "metadata": {},
   "outputs": [],
   "source": [
    "complete_bogo_discount_df['offer_success'] = 1\n",
    "complete_info_df['offer_success'] = 1"
   ]
  },
  {
   "cell_type": "code",
   "execution_count": 150,
   "metadata": {},
   "outputs": [],
   "source": [
    "complete_bogo_discount_df=complete_bogo_discount_df[['user_id','offer_id','offer_success']]\n",
    "complete_info_df=complete_info_df[['user_id','offer_id','offer_success']]"
   ]
  },
  {
   "cell_type": "code",
   "execution_count": 151,
   "metadata": {},
   "outputs": [],
   "source": [
    "concat_pd = complete_bogo_discount_df.append(complete_info_df)"
   ]
  },
  {
   "cell_type": "code",
   "execution_count": 152,
   "metadata": {},
   "outputs": [],
   "source": [
    "#merge the concat_pd with all pairs of user_id and offer_id received, then fill the remaining as unsuccessful offers\n",
    "df1 = offer_received_df.set_index(['offer_id','user_id'])\n",
    "df2 = concat_pd.set_index(['offer_id','user_id'])\n",
    "all_clean_df = pd.merge(df1,df2,left_index=True,right_index=True,how=\"left\")\n",
    "\n",
    "#Consider the other offers as unsuccessful\n",
    "all_clean_df ['offer_success'] = all_clean_df ['offer_success'].fillna(0)"
   ]
  },
  {
   "cell_type": "code",
   "execution_count": 153,
   "metadata": {},
   "outputs": [],
   "source": [
    "all_clean_df = all_clean_df.reset_index()"
   ]
  },
  {
   "cell_type": "code",
   "execution_count": 154,
   "metadata": {},
   "outputs": [],
   "source": [
    "model_df = all_clean_df[['user_id','offer_id','offer_success']]\n",
    "\n",
    "model_df = pd.merge(model_df, portfolio, on='offer_id')\n",
    "model_df = pd.merge(model_df, profile, on='user_id')\n",
    "\n",
    "model_df  = model_df .drop(['became_member_on','offer_type'],axis =1)"
   ]
  },
  {
   "cell_type": "code",
   "execution_count": 155,
   "metadata": {},
   "outputs": [],
   "source": [
    "def normalize_data(df,column):\n",
    "    \"\"\"\n",
    "    normalizes column using min-max normalization:\n",
    "    \n",
    "    Input:\n",
    "    df (pandas Dataframe): input dataframe\n",
    "    column (string): name of column that needs to be normalized\n",
    "    \n",
    "    Return\n",
    "    normal_df (pandas Dataframe): dataframe after normalization\n",
    "\n",
    "    \"\"\"\n",
    "    df[column] = (df[column]-df[column].min())/(df[column].max()-df[column].min())\n",
    "    \n",
    "    return df\n",
    "    "
   ]
  },
  {
   "cell_type": "code",
   "execution_count": 156,
   "metadata": {},
   "outputs": [],
   "source": [
    "#create integer mapping for gender column\n",
    "gender_map = create_mapping_dict(model_df,'gender')\n",
    "model_df = map_string_to_int(model_df,'gender',gender_map)\n",
    "\n",
    "#normalize income and age\n",
    "model_df = normalize_data(model_df,'age')\n",
    "model_df = normalize_data(model_df,'income')"
   ]
  },
  {
   "cell_type": "markdown",
   "metadata": {},
   "source": [
    "Three classifier algorithms will be used\n",
    "1. LinearSVC\n",
    "2. Decision Tree Classifier\n",
    "3. k-nearest neighbors\n",
    "\n",
    "To evaluate a model, we will look into **f1-score**. The F1 score can be interpreted as a weighted average of the precision and recall which conveys the balance between them."
   ]
  },
  {
   "cell_type": "code",
   "execution_count": 157,
   "metadata": {},
   "outputs": [],
   "source": [
    "X = model_df.drop(['offer_success','offer_id','user_id'],axis=1)\n",
    "y = model_df['offer_success']\n",
    "\n",
    "# Split\n",
    "X_train, X_test, Y_train, Y_test = train_test_split(X, y, test_size=0.2,random_state = 42)\n"
   ]
  },
  {
   "cell_type": "code",
   "execution_count": 158,
   "metadata": {},
   "outputs": [],
   "source": [
    "def train_model(clf, parameters, X_train,Y_train):\n",
    "    \"\"\"\n",
    "    fits model to dataset. Uses gridsearch to tune parameters of classification model\n",
    "    \n",
    "    Input:\n",
    "    clf: classificatio model\n",
    "    parameters (dictionary): gridsearch parameters\n",
    "    X_train (dataframe): training dataframe\n",
    "    Y_train: output for training dataset\n",
    "    \n",
    "    Return:\n",
    "    cv: model after fitting to dataset\n",
    "    \"\"\"\n",
    "    cv = GridSearchCV(clf, param_grid=parameters)\n",
    "    cv.fit(X_train, Y_train)\n",
    "    return cv"
   ]
  },
  {
   "cell_type": "code",
   "execution_count": 159,
   "metadata": {},
   "outputs": [],
   "source": [
    "def predict_model(cv,X_test,Y_test):\n",
    "    \"\"\"\n",
    "    predict test data and prints classification report.\n",
    "    \n",
    "    Input:\n",
    "    cv: trained model\n",
    "    X_test (dataframe): test dataframe\n",
    "    Y_train: correct output for test data\n",
    "    \n",
    "    \"\"\"\n",
    "    y_pred = cv.predict(X_test)\n",
    "    print(classification_report(Y_test, y_pred, target_names=['User will not complete','User will complete']))\n",
    "    "
   ]
  },
  {
   "cell_type": "code",
   "execution_count": 160,
   "metadata": {},
   "outputs": [
    {
     "name": "stdout",
     "output_type": "stream",
     "text": [
      "***LinearSVC***\n",
      "                        precision    recall  f1-score   support\n",
      "\n",
      "User will not complete       0.63      0.51      0.56      6928\n",
      "    User will complete       0.69      0.78      0.73      9575\n",
      "\n",
      "              accuracy                           0.67     16503\n",
      "             macro avg       0.66      0.64      0.65     16503\n",
      "          weighted avg       0.66      0.67      0.66     16503\n",
      "\n"
     ]
    }
   ],
   "source": [
    "print(\"***LinearSVC***\")\n",
    "parameters = {\"C\": [1, 100]}\n",
    "cv = train_model(LinearSVC(dual=False),parameters,X_train,Y_train)\n",
    "predict_model(cv,X_test,Y_test)"
   ]
  },
  {
   "cell_type": "code",
   "execution_count": 161,
   "metadata": {},
   "outputs": [
    {
     "name": "stdout",
     "output_type": "stream",
     "text": [
      "***DecisionTreeClassifier***\n",
      "                        precision    recall  f1-score   support\n",
      "\n",
      "User will not complete       0.65      0.61      0.63      6928\n",
      "    User will complete       0.73      0.76      0.74      9575\n",
      "\n",
      "              accuracy                           0.70     16503\n",
      "             macro avg       0.69      0.68      0.69     16503\n",
      "          weighted avg       0.69      0.70      0.70     16503\n",
      "\n"
     ]
    }
   ],
   "source": [
    "print('***DecisionTreeClassifier***')\n",
    "parameters = {'max_features': [0.25, 0.5, 0.75, None],\n",
    "             'max_depth': [8, 10, 12, None],\n",
    "             'min_samples_split': [100, 60, 20],\n",
    "             'min_samples_leaf': [100,50, 30, 10]}\n",
    "cv = train_model(DecisionTreeClassifier(random_state=0),parameters,X_train,Y_train)\n",
    "predict_model(cv,X_test,Y_test)"
   ]
  },
  {
   "cell_type": "code",
   "execution_count": 162,
   "metadata": {},
   "outputs": [
    {
     "name": "stdout",
     "output_type": "stream",
     "text": [
      "***KNeighborsClassifier***\n",
      "                        precision    recall  f1-score   support\n",
      "\n",
      "User will not complete       0.68      0.59      0.64      6928\n",
      "    User will complete       0.73      0.80      0.77      9575\n",
      "\n",
      "              accuracy                           0.71     16503\n",
      "             macro avg       0.71      0.70      0.70     16503\n",
      "          weighted avg       0.71      0.71      0.71     16503\n",
      "\n"
     ]
    }
   ],
   "source": [
    "print('***KNeighborsClassifier***')\n",
    "knn = KNeighborsClassifier()\n",
    "parameters = {'n_neighbors': [5, 10, 30],\n",
    "              'p': [1, 2, 3]}\n",
    "\n",
    "cv = train_model(KNeighborsClassifier(),parameters,X_train,Y_train)\n",
    "predict_model(cv,X_test,Y_test)"
   ]
  },
  {
   "cell_type": "markdown",
   "metadata": {},
   "source": [
    "Looking at the results above, KNeighborsClassifier performed the best with an f1-score of 0.64 for users who will not complete offer and 0.77 for users who complete an offer. The average accuracy is 0.71."
   ]
  },
  {
   "cell_type": "markdown",
   "metadata": {},
   "source": [
    "## Conclusion\n",
    "In the above analysis, we looked at Starbucks data and saw how offer features and user demographics affect how a user would respond to a an offer.  \n",
    "\n",
    "After doing dome deeper analysis and visualization we saw that some features such as gender affected a user response to an offer. Males were more likely to complete an offer and especially discount offers whereas women preferred high reward offers ($10).On the other hand, we saw that the age of the user has no effect in that matter.\n",
    "We discovered some trends on user spending and we saw that users who are older (in their 50’s or 60’s) are more likely to spend more.\n",
    "\n",
    "we also looked at how the data is spread and we saw that only 11% of the offers sent were actually completed and 19% was viewed. The remaining offers were not touched.\n",
    "\n",
    "To wrap things up, we built a classification model to predict whether a user would complete an offer or not. We saw that KNeighborsClassifier had the best results. The model was able to classify completed offers better and it had an average accuracy of 71% which is good given the limited dataset and the small number of effective features. [5,10,30] neighbors were tested with gridsearch to give the above result.\n",
    "\n",
    "\n",
    "We had missing information for so many users in the dataset and therefore their data was dismissed. The experiment was also run for a short period of time, which doesn’t give enough input into how users react to the offers.\n",
    "\n",
    "\n",
    "One improvement for the model was made after normalizing the income feature as it had very large values compared to the rest of the data."
   ]
  },
  {
   "cell_type": "markdown",
   "metadata": {},
   "source": [
    "## Reflection\n",
    "In conclusion, we went through several steps with the analysis to answer our problem statement.\n",
    "The steps can be summarized as follows:\n",
    "\n",
    "1. Understand the dataset and all its features.\n",
    "2. Clean and modify the data to prepare it for visualization and modelling.\n",
    "    - Null and duplicate values were removed\n",
    "    -  For categorical values such as offer_type and event, separate columns were generated to replace them.\n",
    "    - Invalid data such as missing user information was handled.\n",
    "3. Visualize and explore data.\n",
    "    - Data distribution of age, gender, event, and offer types were looked at.\n",
    "    - Relation between user demographics and response to offers.\n",
    "4. Identify successfully completed offers from unsuccessful offers and represent them properly.\n",
    "5. Predict user response to offers using ML classification models.\n",
    "6. Evaluate results and choose the most appropriate model.\n",
    "\n",
    "In this project, I learned so many things and explored different areas of data science.\n",
    "My favorite step was step 3 of visualizing data. My most challenging step was step 4 as it was difficult dealing with the fact that users can complete an offer without viewing it or that an offer can be sent to user multiple times.\n",
    "\n"
   ]
  },
  {
   "cell_type": "markdown",
   "metadata": {},
   "source": [
    "## Improvement\n",
    "One thing that can be done is to increase the duration of the experiment. A period of one month is short and would not be sufficient to describe user behavior as users spending can be different every month. A period of 3 or 6 months is more suitable.\n",
    "\n",
    "We can also create an A/B experiment to split users and check how well our prediction model work."
   ]
  },
  {
   "cell_type": "code",
   "execution_count": null,
   "metadata": {},
   "outputs": [],
   "source": []
  },
  {
   "cell_type": "code",
   "execution_count": null,
   "metadata": {},
   "outputs": [],
   "source": []
  },
  {
   "cell_type": "code",
   "execution_count": null,
   "metadata": {},
   "outputs": [],
   "source": []
  },
  {
   "cell_type": "code",
   "execution_count": null,
   "metadata": {},
   "outputs": [],
   "source": []
  }
 ],
 "metadata": {
  "kernelspec": {
   "display_name": "Python 3",
   "language": "python",
   "name": "python3"
  },
  "language_info": {
   "codemirror_mode": {
    "name": "ipython",
    "version": 3
   },
   "file_extension": ".py",
   "mimetype": "text/x-python",
   "name": "python",
   "nbconvert_exporter": "python",
   "pygments_lexer": "ipython3",
   "version": "3.6.9"
  }
 },
 "nbformat": 4,
 "nbformat_minor": 2
}
